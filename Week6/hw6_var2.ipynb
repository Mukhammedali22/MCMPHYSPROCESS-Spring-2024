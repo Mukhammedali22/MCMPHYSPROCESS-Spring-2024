{
 "cells": [
  {
   "cell_type": "markdown",
   "metadata": {},
   "source": [
    "## Week 6\n",
    "## The two-dimensional Laplace equation\n",
    "$$\\frac{\\partial ^2 P}{\\partial x^2} + \\frac{\\partial ^2 P}{\\partial y^2} = 0$$\n",
    "### Discretization\n",
    "$$\\frac{P_{i+1, j}^n - 2P_{i,j}^n + P_{i-1,j}^n}{\\Delta x^2} + \\frac{P_{i,j+1}^n - 2P_{i,j}^n + P_{i, j-1}^n}{\\Delta y^2} = 0$$\n",
    "### Boundary conditions\n",
    "$$P(x=0, 0<y<0.7) = 0$$\n",
    "$$P(x=0, 0.7<y<1) = 1$$\n",
    "$$P(x=1, 0<y<0.3) = 1$$\n",
    "$$P(x=1, 0.3<y<1) = 0$$\n",
    "$$P(x, y=0) = 0$$\n",
    "$$P(x, y=1) = 0$$"
   ]
  },
  {
   "cell_type": "markdown",
   "metadata": {},
   "source": [
    "### 1. Jacobi method\n",
    "\n",
    "#### Discretization\n",
    "$$\\frac{P_{i+1, j}^n - 2P_{i,j}^{n+1} + P_{i-1,j}^n}{\\Delta x^2} + \\frac{P_{i,j+1}^n - 2P_{i,j}^{n+1} + P_{i, j-1}^n}{\\Delta y^2} = 0$$\n",
    "#### Final iterative form\n",
    "$$P_{i,j}^{n+1} = \\frac{\\Delta y^2(P_{i+1,j}^n + P_{i-1,j}^n)+\\Delta x^2(P_{i,j+1}^n + P_{i,j-1}^n)}{2(\\Delta x^2 + \\Delta y^2)}$$"
   ]
  },
  {
   "cell_type": "markdown",
   "metadata": {},
   "source": [
    "### 2. Gauss-Seidel method\n",
    "#### Discretization\n",
    "$$\\frac{P_{i+1, j}^n - 2P_{i,j}^{n+1} + P_{i-1,j}^{n+1}}{\\Delta x^2} + \\frac{P_{i,j+1}^n - 2P_{i,j}^{n+1} + P_{i, j-1}^{n+1}}{\\Delta y^2} = 0$$\n",
    "#### Final iterative form\n",
    "$$P_{i,j}^{n+1} = \\frac{\\Delta y^2(P_{i+1,j}^n + P_{i-1,j}^{n+1})+\\Delta x^2(P_{i,j+1}^n + P_{i,j-1}^{n+1})}{2(\\Delta x^2 + \\Delta y^2)}$$"
   ]
  },
  {
   "cell_type": "markdown",
   "metadata": {},
   "source": [
    "### 3. Over relaxation method\n",
    "#### Discretization\n",
    "$$\\frac{P_{i+1, j}^n - 2P_{i,j}^{n+1} + P_{i-1,j}^{n+1}}{\\Delta x^2} + \\frac{P_{i,j+1}^n - 2P_{i,j}^{n+1} + P_{i, j-1}^{n+1}}{\\Delta y^2} = 0$$\n",
    "We are gonna use this substitution $$P_{i,j}^{n+1} = \\frac{P_{i,j}^{n+1}}{w} + (1 - \\frac{1}{w})P_{i,j}^n$$\n",
    "#### Final iterative form\n",
    "$$P_{i,j}^{n+1} = w\\frac{\\Delta y^2(P_{i+1,j}^n + P_{i-1,j}^{n+1})+\\Delta x^2(P_{i,j+1}^n + P_{i,j-1}^{n+1})}{2(\\Delta x^2 + \\Delta y^2)} + (1 - w)P_{i,j}^n$$\n",
    "Here $w$ is relaxation parameter, $w \\in (1,2)$"
   ]
  },
  {
   "cell_type": "code",
   "execution_count": 5,
   "metadata": {},
   "outputs": [],
   "source": [
    "import numpy as np\n",
    "from numpy import (pi, exp, sin, cos)\n",
    "import matplotlib.pyplot as plt\n",
    "from time import perf_counter"
   ]
  },
  {
   "cell_type": "code",
   "execution_count": 6,
   "metadata": {},
   "outputs": [],
   "source": [
    "dx = 0.01\n",
    "dy = 0.01\n",
    "\n",
    "start_x, end_x = (0, 1)\n",
    "start_y, end_y = (0, 1)\n",
    "\n",
    "N = int((end_x - start_x) / dx) + 1\n",
    "M = int((end_y - start_y) / dy) + 1\n",
    "\n",
    "x = start_x + np.arange(start=0, stop=N) * dx\n",
    "y = start_y + np.arange(start=0, stop=M) * dy\n",
    "X, Y = np.meshgrid(x, y)\n",
    "\n",
    "P_old = np.zeros((M, N))\n",
    "P_new = np.zeros((M, N))"
   ]
  },
  {
   "cell_type": "code",
   "execution_count": 7,
   "metadata": {},
   "outputs": [],
   "source": [
    "# Boundary conditions\n",
    "# P(x=0, 0<y<0.7) = 0\n",
    "# P(x=0, 0.7<y<1) = 1\n",
    "# P(x=1, 0<y<0.3) = 1\n",
    "# P(x=1, 0.3<y<1) = 0\n",
    "# P(x, y=0) = 0\n",
    "# P(x, y=1) = 0\n",
    "def set_boundary_P(P:np.ndarray):\n",
    "    P[0:M2, 0] = 0\n",
    "    P[M2:M, 0] = 1\n",
    "    P[0:M1, N-1] = 1\n",
    "    P[M1:M, N-1] = 0\n",
    "    P[0, 0:N] = 0\n",
    "    P[M-1, 0:N] = 0\n",
    "\n",
    "M1 = int(0.3 * M)\n",
    "M2 = int(0.7 * M)"
   ]
  },
  {
   "cell_type": "code",
   "execution_count": 8,
   "metadata": {},
   "outputs": [],
   "source": [
    "def plot_result(X, Y, P, name=\"Numerical method\"):\n",
    "    plt.title(name)\n",
    "    plt.xlabel(\"x\")\n",
    "    plt.ylabel(\"y\")\n",
    "    plt.contourf(X, Y, P)\n",
    "    plt.colorbar()\n",
    "    plt.tight_layout()"
   ]
  },
  {
   "cell_type": "markdown",
   "metadata": {},
   "source": [
    "Now let's write decorator that measures execution time of functions"
   ]
  },
  {
   "cell_type": "code",
   "execution_count": 10,
   "metadata": {},
   "outputs": [],
   "source": [
    "from functools import wraps\n",
    "\n",
    "def timeit(func):\n",
    "    @wraps(func)\n",
    "    def timeit_wrapper(*args, **kwargs):\n",
    "        start_time = perf_counter()\n",
    "        result = func(*args, **kwargs)\n",
    "        end_time = perf_counter()\n",
    "        print(f\"{func.__doc__}\")\n",
    "        print(f\"Calculation time: {(end_time - start_time):.3f} seconds\")\n",
    "        return result\n",
    "    \n",
    "    return timeit_wrapper"
   ]
  },
  {
   "cell_type": "code",
   "execution_count": 11,
   "metadata": {},
   "outputs": [],
   "source": [
    "@timeit\n",
    "def Jacobi_method(P:np.ndarray, N, M, dx, dy,\n",
    "                    eps=1e-6, stop_iteration=3e4) -> np.ndarray:\n",
    "    \"\"\"Jacobi method for solving 2D Laplace equation\"\"\"\n",
    "    P_old = P.copy()\n",
    "    P_new = np.zeros_like(P)\n",
    "\n",
    "    set_boundary_P(P=P_old)\n",
    "\n",
    "    iteration = 0\n",
    "    maximum = 1\n",
    "    while maximum > eps and iteration < stop_iteration:\n",
    "        P_new[1:M-1, 1:N-1] = (\n",
    "            dy**2*(P_old[1:M-1, 2:N] + P_old[1:M-1, 0:N-2]) \n",
    "            + dx**2*(P_old[2:M, 1:N-1] + P_old[0:M-2, 1:N-1])\n",
    "            ) / (2*(dx**2 + dy**2))\n",
    "        \n",
    "        set_boundary_P(P=P_new)\n",
    "        \n",
    "        maximum = np.max(np.abs(P_new - P_old))\n",
    "        P_old = P_new.copy()\n",
    "        iteration += 1\n",
    "\n",
    "    print(f\"Number of iterations: {iteration}\")\n",
    "    print(f\"Maximum absolute difference: {maximum}\")\n",
    "    \n",
    "    return P_new"
   ]
  },
  {
   "cell_type": "code",
   "execution_count": 12,
   "metadata": {},
   "outputs": [
    {
     "name": "stdout",
     "output_type": "stream",
     "text": [
      "Number of iterations: 8940\n",
      "Maximum absolute difference: 9.996674346646195e-07\n",
      "Jacobi method for solving 2D Laplace equation\n",
      "Calculation time: 0.933 seconds\n"
     ]
    }
   ],
   "source": [
    "P_1 = Jacobi_method(P_old, N, M, dx, dy)"
   ]
  },
  {
   "cell_type": "markdown",
   "metadata": {},
   "source": [
    "Wow, it is actually fast, good. Now let's visualize the solution"
   ]
  },
  {
   "cell_type": "code",
   "execution_count": 14,
   "metadata": {},
   "outputs": [
    {
     "data": {
      "image/png": "[encoded data removed]",
      "text/plain": [
       "<Figure size 640x480 with 2 Axes>"
      ]
     },
     "metadata": {},
     "output_type": "display_data"
    }
   ],
   "source": [
    "plot_result(X, Y, P_1, name=\"Jacobi method\")"
   ]
  },
  {
   "cell_type": "code",
   "execution_count": 15,
   "metadata": {},
   "outputs": [],
   "source": [
    "@timeit\n",
    "def Gauss_Seidel_method(P0:np.ndarray, P1:np.ndarray, N, M, \n",
    "                        dx, dy, eps=1e-6, stop_iteration=3e4):\n",
    "    \"\"\"Gauss-Seidel method for solving 2D Laplace equation\"\"\"\n",
    "    P_old = P0.copy()\n",
    "    P_new = P1.copy()\n",
    "\n",
    "    set_boundary_P(P=P_old)\n",
    "    set_boundary_P(P=P_new)\n",
    "    \n",
    "    iteration = 0\n",
    "    maximum = 1\n",
    "    while maximum > eps and iteration < stop_iteration:\n",
    "        for j in range(1, M-1):\n",
    "            for i in range(1, N-1):\n",
    "                P_new[j, i] = (\n",
    "                    dy**2*(P_old[j, i+1] + P_new[j, i-1]) \\\n",
    "                    + dx**2*(P_old[j+1, i] + P_new[j-1, i])\n",
    "                    ) / (2*(dx**2 + dy**2))\n",
    "                \n",
    "        set_boundary_P(P=P_old)\n",
    "        set_boundary_P(P=P_new)\n",
    "\n",
    "        maximum = np.max(np.abs(P_new - P_old))\n",
    "        # print(f\"{iteration = }\\t{maximum = }\")\n",
    "        P_old = P_new.copy()\n",
    "        iteration += 1\n",
    "\n",
    "    print(f\"Number of iterations: {iteration}\")\n",
    "    print(f\"Maximum absolute difference: {maximum}\")\n",
    "    \n",
    "    return P_new"
   ]
  },
  {
   "cell_type": "code",
   "execution_count": 16,
   "metadata": {},
   "outputs": [
    {
     "name": "stdout",
     "output_type": "stream",
     "text": [
      "Number of iterations: 5173\n",
      "Maximum absolute difference: 9.992158485488956e-07\n",
      "Gauss-Seidel method for solving 2D Laplace equation\n",
      "Calculation time: 98.094 seconds\n"
     ]
    }
   ],
   "source": [
    "P_2 = Gauss_Seidel_method(P_old, P_new, N, M, dx, dy)"
   ]
  },
  {
   "cell_type": "markdown",
   "metadata": {},
   "source": [
    "It takes a lot of time that is not good. So let's try how we can optimize this code?"
   ]
  },
  {
   "cell_type": "code",
   "execution_count": 18,
   "metadata": {},
   "outputs": [
    {
     "data": {
      "image/png": "[encoded data removed]",
      "text/plain": [
       "<Figure size 640x480 with 2 Axes>"
      ]
     },
     "metadata": {},
     "output_type": "display_data"
    }
   ],
   "source": [
    "plot_result(X, Y, P_2, name=\"Gauss-Seidel method\")"
   ]
  },
  {
   "cell_type": "markdown",
   "metadata": {},
   "source": [
    "### Try to use Numba\n",
    "To optimize python for loops we can use Numba library that is designed for this. Numba is a good choice if you want to speed up a code that requires a lot of numerical calculations like our code. When your done with code first run will a few seconds because numba trying to complile python code to machine code and then you can use directly machine code. After this cell you will see the first and second run of numba code where the second one shows actual calculation time.\n",
    "\n",
    "* Source: https://numba.pydata.org/numba-doc/dev/user/5minguide.html"
   ]
  },
  {
   "cell_type": "code",
   "execution_count": 20,
   "metadata": {},
   "outputs": [],
   "source": [
    "from numba import jit\n",
    "\n",
    "@timeit\n",
    "@jit(nopython=True)\n",
    "def Numba_Gauss_Seidel_method(P0:np.ndarray, P1:np.ndarray, N, M, \n",
    "                        dx, dy, eps=1e-6, stop_iteration=3e4):\n",
    "    \"\"\"Boosted Gauss-Seidel method for solving 2D Laplace equation\"\"\"\n",
    "    P_old = P0.copy()\n",
    "    P_new = P1.copy()\n",
    "    \n",
    "    M1 = int(0.3 * M)\n",
    "    M2 = int(0.7 * M)\n",
    "\n",
    "    P_old[0:M2, 0] = 0\n",
    "    P_old[M2:M, 0] = 1\n",
    "    P_old[0:M1, N-1] = 1\n",
    "    P_old[M1:M, N-1] = 0\n",
    "    P_old[0, 0:N] = 0\n",
    "    P_old[M-1, 0:N] = 0\n",
    "\n",
    "    P_new[0:M2, 0] = 0\n",
    "    P_new[M2:M, 0] = 1\n",
    "    P_new[0:M1, N-1] = 1\n",
    "    P_new[M1:M, N-1] = 0\n",
    "    P_new[0, 0:N] = 0\n",
    "    P_new[M-1, 0:N] = 0\n",
    "\n",
    "    iteration = 0\n",
    "    maximum = 1\n",
    "    while maximum > eps and iteration < stop_iteration:\n",
    "        for j in range(1, M-1):\n",
    "            for i in range(1, N-1):\n",
    "                P_new[j, i] = (\n",
    "                    dy**2*(P_old[j, i+1] + P_new[j, i-1]) \\\n",
    "                    + dx**2*(P_old[j+1, i] + P_new[j-1, i])\n",
    "                    ) / (2*(dx**2 + dy**2))\n",
    "                \n",
    "        P_old[0:M2, 0] = 0\n",
    "        P_old[M2:M, 0] = 1\n",
    "        P_old[0:M1, N-1] = 1\n",
    "        P_old[M1:M, N-1] = 0\n",
    "        P_old[0, 0:N] = 0\n",
    "        P_old[M-1, 0:N] = 0\n",
    "\n",
    "        P_new[0:M2, 0] = 0\n",
    "        P_new[M2:M, 0] = 1\n",
    "        P_new[0:M1, N-1] = 1\n",
    "        P_new[M1:M, N-1] = 0\n",
    "        P_new[0, 0:N] = 0\n",
    "        P_new[M-1, 0:N] = 0\n",
    "\n",
    "        maximum = np.max(np.abs(P_new - P_old))\n",
    "        # print(\"Iteration\", iteration, \"\\t\", \"maximum\", maximum)\n",
    "        P_old = P_new.copy()\n",
    "        iteration += 1\n",
    "\n",
    "    print(\"Number of iterations:\", iteration)\n",
    "    print(\"Maximum absolute difference:\", maximum)\n",
    "    \n",
    "    return P_new"
   ]
  },
  {
   "cell_type": "code",
   "execution_count": 21,
   "metadata": {},
   "outputs": [
    {
     "name": "stdout",
     "output_type": "stream",
     "text": [
      "Number of iterations: 5173\n",
      "Maximum absolute difference: 9.992158485488956e-07\n",
      "Boosted Gauss-Seidel method for solving 2D Laplace equation\n",
      "Calculation time: 3.830 seconds\n"
     ]
    }
   ],
   "source": [
    "P_2N = Numba_Gauss_Seidel_method(P_old, P_new, N, M, dx, dy)"
   ]
  },
  {
   "cell_type": "code",
   "execution_count": 22,
   "metadata": {},
   "outputs": [
    {
     "name": "stdout",
     "output_type": "stream",
     "text": [
      "Number of iterations: 5173\n",
      "Maximum absolute difference: 9.992158485488956e-07\n",
      "Boosted Gauss-Seidel method for solving 2D Laplace equation\n",
      "Calculation time: 0.437 seconds\n"
     ]
    }
   ],
   "source": [
    "P_2N = Numba_Gauss_Seidel_method(P_old, P_new, N, M, dx, dy)"
   ]
  },
  {
   "cell_type": "markdown",
   "metadata": {},
   "source": [
    "#### As you can see the first run takes some time because it tries complile first and then run it. In the second run it uses already compiled code and it is much faster than original python where it was taken 90 seconds.\n",
    "\n",
    "## Almost 200 times faster!\n",
    "\n",
    "Good, it calculates very quickly and the results the same with the original python code"
   ]
  },
  {
   "cell_type": "code",
   "execution_count": 24,
   "metadata": {},
   "outputs": [
    {
     "data": {
      "image/png": "[encoded data removed]",
      "text/plain": [
       "<Figure size 640x480 with 2 Axes>"
      ]
     },
     "metadata": {},
     "output_type": "display_data"
    }
   ],
   "source": [
    "plot_result(X, Y, P_2N, name=\"Gauss-Seidel method\")"
   ]
  },
  {
   "cell_type": "code",
   "execution_count": 25,
   "metadata": {},
   "outputs": [],
   "source": [
    "@timeit\n",
    "def Over_Relaxation_method(P0:np.ndarray, P1:np.ndarray, N, M, \n",
    "                        dx, dy, w=1.9, eps=1e-6, stop_iteration=3e4):\n",
    "    \"\"\"Over relaxation method for solving 2D Laplace equation\"\"\"\n",
    "    P_old = P0.copy()\n",
    "    P_new = P1.copy()\n",
    "    \n",
    "    iteration = 0\n",
    "    maximum = 1\n",
    "    while maximum > eps and iteration < stop_iteration:\n",
    "        set_boundary_P(P=P_old)\n",
    "        set_boundary_P(P=P_new)\n",
    "\n",
    "        for j in range(1, M-1):\n",
    "            for i in range(1, N-1):\n",
    "                P_new[j, i] = w*(\n",
    "                    dy**2*(P_old[j, i+1] + P_new[j, i-1]) \\\n",
    "                    + dx**2*(P_old[j+1, i] + P_new[j-1, i])\n",
    "                    ) / (2*(dx**2 + dy**2)) \\\n",
    "                    + (1 - w)*P_old[j][i]\n",
    "                \n",
    "        maximum = np.max(np.abs(P_new - P_old))\n",
    "        # print(\"Iteration\", iteration, \"\\t\", \"maximum\", maximum)\n",
    "        P_old = P_new.copy()\n",
    "        iteration += 1\n",
    "\n",
    "    print(f\"Number of iterations: {iteration}\")\n",
    "    print(f\"Maximum absolute difference: {maximum}\")\n",
    "    \n",
    "    return P_new"
   ]
  },
  {
   "cell_type": "code",
   "execution_count": 26,
   "metadata": {},
   "outputs": [
    {
     "name": "stdout",
     "output_type": "stream",
     "text": [
      "Number of iterations: 224\n",
      "Maximum absolute difference: 9.607528082405947e-07\n",
      "Over relaxation method for solving 2D Laplace equation\n",
      "Calculation time: 6.452 seconds\n"
     ]
    }
   ],
   "source": [
    "P_3 = Over_Relaxation_method(P_old, P_new, N, M, dx, dy, w=1.94)"
   ]
  },
  {
   "cell_type": "markdown",
   "metadata": {},
   "source": [
    "Here in the over relaxation code works relatively slowly, so we need to speed up using Numba. Let's do this!"
   ]
  },
  {
   "cell_type": "code",
   "execution_count": 28,
   "metadata": {},
   "outputs": [
    {
     "data": {
      "image/png": "[encoded data removed]",
      "text/plain": [
       "<Figure size 640x480 with 2 Axes>"
      ]
     },
     "metadata": {},
     "output_type": "display_data"
    }
   ],
   "source": [
    "plot_result(X, Y, P_3, name=\"Over relaxation method\")"
   ]
  },
  {
   "cell_type": "code",
   "execution_count": 29,
   "metadata": {},
   "outputs": [],
   "source": [
    "@timeit\n",
    "@jit(nopython=True)\n",
    "def Numba_Over_Relaxation_method(P0:np.ndarray, P1:np.ndarray, N, M, dx, dy, \n",
    "                                    w=1.9, eps=1e-6, stop_iteration=3e4):\n",
    "    \"\"\"Boosted Over relaxation method for solving 2D Laplace equation\"\"\"\n",
    "    P_old = P0.copy()\n",
    "    P_new = P1.copy()\n",
    "    \n",
    "    M1 = int(0.3 * M)\n",
    "    M2 = int(0.7 * M)\n",
    "\n",
    "    iteration = 0\n",
    "    maximum = 1\n",
    "    while maximum > eps and iteration < stop_iteration:\n",
    "        P_old[0:M2, 0] = 0\n",
    "        P_old[M2:M, 0] = 1\n",
    "        P_old[0:M1, N-1] = 1\n",
    "        P_old[M1:M, N-1] = 0\n",
    "        P_old[0, 0:N] = 0\n",
    "        P_old[M-1, 0:N] = 0\n",
    "\n",
    "        P_new[0:M2, 0] = 0\n",
    "        P_new[M2:M, 0] = 1\n",
    "        P_new[0:M1, N-1] = 1\n",
    "        P_new[M1:M, N-1] = 0\n",
    "        P_new[0, 0:N] = 0\n",
    "        P_new[M-1, 0:N] = 0\n",
    "\n",
    "        for j in range(1, M-1):\n",
    "            for i in range(1, N-1):\n",
    "                P_new[j, i] = w*(\n",
    "                    dy**2*(P_old[j, i+1] + P_new[j, i-1]) \\\n",
    "                    + dx**2*(P_old[j+1, i] + P_new[j-1, i])\n",
    "                    ) / (2*(dx**2 + dy**2)) \\\n",
    "                    + (1 - w)*P_old[j][i]\n",
    "                \n",
    "        maximum = np.max(np.abs(P_new - P_old))\n",
    "        # print(\"Iteration\", iteration, \"\\t\", \"maximum\", maximum)\n",
    "        P_old = P_new.copy()\n",
    "        iteration += 1\n",
    "\n",
    "    print(\"Number of iterations:\", iteration)\n",
    "    print(\"Maximum absolute difference:\", maximum)\n",
    "    \n",
    "    return P_new"
   ]
  },
  {
   "cell_type": "code",
   "execution_count": 30,
   "metadata": {},
   "outputs": [
    {
     "name": "stdout",
     "output_type": "stream",
     "text": [
      "Number of iterations: 224\n",
      "Maximum absolute difference: 9.607528082405947e-07\n",
      "Boosted Over relaxation method for solving 2D Laplace equation\n",
      "Calculation time: 0.979 seconds\n"
     ]
    }
   ],
   "source": [
    "P_3N = Numba_Over_Relaxation_method(P_old, P_new, N, M, dx, dy, w=1.94)"
   ]
  },
  {
   "cell_type": "code",
   "execution_count": 31,
   "metadata": {},
   "outputs": [
    {
     "name": "stdout",
     "output_type": "stream",
     "text": [
      "Number of iterations: 224\n",
      "Maximum absolute difference: 9.607528082405947e-07\n",
      "Boosted Over relaxation method for solving 2D Laplace equation\n",
      "Calculation time: 0.024 seconds\n"
     ]
    }
   ],
   "source": [
    "P_3N = Numba_Over_Relaxation_method(P_old, P_new, N, M, dx, dy, w=1.94)"
   ]
  },
  {
   "cell_type": "markdown",
   "metadata": {},
   "source": [
    "Woow! It calculates in 0.024 seconds that it very very fast!\n",
    "\n",
    "### Almost 250 times faster!"
   ]
  },
  {
   "cell_type": "code",
   "execution_count": 33,
   "metadata": {},
   "outputs": [
    {
     "data": {
      "image/png": "[encoded data removed]",
      "text/plain": [
       "<Figure size 640x480 with 2 Axes>"
      ]
     },
     "metadata": {},
     "output_type": "display_data"
    }
   ],
   "source": [
    "plot_result(X, Y, P_3N, name=\"Over relaxation method\")"
   ]
  },
  {
   "cell_type": "markdown",
   "metadata": {},
   "source": [
    "We've done a good job. Let's now save our results"
   ]
  },
  {
   "cell_type": "code",
   "execution_count": 35,
   "metadata": {},
   "outputs": [],
   "source": [
    "import os\n",
    "\n",
    "path = \"Results\"\n",
    "if not os.path.exists(path):\n",
    "    os.makedirs(path)"
   ]
  },
  {
   "cell_type": "code",
   "execution_count": 36,
   "metadata": {},
   "outputs": [
    {
     "name": "stdout",
     "output_type": "stream",
     "text": [
      "The results recorded\n"
     ]
    }
   ],
   "source": [
    "np.savetxt(f\"{path}\\\\HW6_X_py.txt\", X, fmt=\"%.6f\", delimiter=\"\\t\")\n",
    "np.savetxt(f\"{path}\\\\HW6_Y_py.txt\", Y, fmt=\"%.6f\", delimiter=\"\\t\")\n",
    "np.savetxt(f\"{path}\\\\HW6_P1_py.txt\", P_1, fmt=\"%.6f\", delimiter=\"\\t\")\n",
    "np.savetxt(f\"{path}\\\\HW6_P2_py.txt\", P_2N, fmt=\"%.6f\", delimiter=\"\\t\")\n",
    "np.savetxt(f\"{path}\\\\HW6_P3_py.txt\", P_3N, fmt=\"%.6f\", delimiter=\"\\t\")\n",
    "\n",
    "print(\"The results recorded\")"
   ]
  },
  {
   "cell_type": "markdown",
   "metadata": {},
   "source": [
    "#### During this week, we went through and applied three methods for Laplace's equation, and also speed up code using the numba library. I hope you found this interesting and useful. See you next week!"
   ]
  },
  {
   "cell_type": "code",
   "execution_count": null,
   "metadata": {},
   "outputs": [],
   "source": []
  }
 ],
 "metadata": {
  "kernelspec": {
   "display_name": "Python 3 (ipykernel)",
   "language": "python",
   "name": "python3"
  },
  "language_info": {
   "codemirror_mode": {
    "name": "ipython",
    "version": 3
   },
   "file_extension": ".py",
   "mimetype": "text/x-python",
   "name": "python",
   "nbconvert_exporter": "python",
   "pygments_lexer": "ipython3",
   "version": "3.11.7"
  }
 },
 "nbformat": 4,
 "nbformat_minor": 4
}
